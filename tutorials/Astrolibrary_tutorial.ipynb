{
  "cells": [
    {
      "cell_type": "markdown",
      "id": "66acb1ac",
      "metadata": {
        "id": "66acb1ac"
      },
      "source": [
        "# Astrolibrary Tutorial: Exploring the Cosmos with Python :)\n",
        "\n",
        "Welcome to the Astrolibrary tutorial! In this notebook, we'll dive into the fascinating world of astronomical research using the Astrolibrary, a Python library designed to assist researchers in classifying astronomical objects and working with spectral data.\n"
      ]
    },
    {
      "cell_type": "markdown",
      "id": "e99e06f5",
      "metadata": {
        "id": "e99e06f5"
      },
      "source": [
        "# What is Astrolibrary?\n",
        "\n",
        "Astrolibrary is a versatile library tailored for astronomers and researchers, providing a seamless interface to the Sloan Digital Sky Survey (SDSS) services. It simplifies the process of querying databases, preprocessing spectral data, visualizing astronomical spectra, and more."
      ]
    },
    {
      "cell_type": "markdown",
      "id": "9e846c59",
      "metadata": {
        "id": "9e846c59"
      },
      "source": [
        "## Getting Started\n",
        "\n",
        "### Installation\n",
        "\n",
        "To get started, make sure you have Astrolibrary installed. If not, you can install it using the following command:"
      ]
    },
    {
      "cell_type": "code",
      "execution_count": null,
      "id": "2e09cc95",
      "metadata": {
        "colab": {
          "base_uri": "https://localhost:8080/"
        },
        "id": "2e09cc95",
        "outputId": "0797d781-072b-4aff-85aa-bcdd400c739d"
      },
      "outputs": [],
      "source": [
        "!python3 -m pip install --index-url https://test.pypi.org/simple/ --extra-index-url https://pypi.org/simple/ astrolibrary==1.0.1"
      ]
    },
    {
      "cell_type": "markdown",
      "id": "40c4eabd",
      "metadata": {
        "id": "40c4eabd"
      },
      "source": [
        "### Importing the Library\n",
        "\n",
        "Let's begin by importing the Astrolibrary modules and classes we'll use throughout this tutorial:\n"
      ]
    },
    {
      "cell_type": "code",
      "execution_count": null,
      "id": "8edc925e",
      "metadata": {
        "id": "8edc925e"
      },
      "outputs": [],
      "source": [
        "from astrolibrary import QueryHandler, DataPreprocessing, get_spectra_data, cross_match, MetaDataExtractor,plot, MachineLearning"
      ]
    },
    {
      "cell_type": "markdown",
      "id": "eb8e5fc4",
      "metadata": {
        "id": "eb8e5fc4"
      },
      "source": [
        "## Module: QueryHandler\n",
        "Let's start with exploring the QueryHandler Module.The QueryHandler module is designed to simplify the process of querying astronomical datasets, specifically interfacing with the Sloan Digital Sky Survey (SDSS) services.\n",
        "\n",
        "The QueryHandler class allows you to:\n",
        "\n",
        "- Instantiate a query handler for a given dataset, such as SDSS.\n",
        "- Run queries using ADQL (Astronomical Data Query Language) strings.\n",
        "- Check the status of queries.\n",
        "- Retrieve the results of queries.\n",
        "\n",
        "Now, we'll demonstrate how to use this module"
      ]
    },
    {
      "cell_type": "markdown",
      "id": "3fe4388b",
      "metadata": {
        "id": "3fe4388b"
      },
      "source": [
        "### Step 1: Create a QueryHandler Instance"
      ]
    },
    {
      "cell_type": "code",
      "execution_count": null,
      "id": "0911908f",
      "metadata": {
        "id": "0911908f"
      },
      "outputs": [],
      "source": [
        "query_handler = QueryHandler(dataset_name=\"SDSS\")"
      ]
    },
    {
      "cell_type": "markdown",
      "id": "ac6a05b3",
      "metadata": {
        "id": "ac6a05b3"
      },
      "source": [
        "### Step 2: Generate a Query"
      ]
    },
    {
      "cell_type": "code",
      "execution_count": null,
      "id": "8cd7e6d3",
      "metadata": {
        "id": "8cd7e6d3"
      },
      "outputs": [],
      "source": [
        "def sample_n_objects(class_name, n):\n",
        "    \"\"\"Returns a sample of n objects of a given class.\"\"\"\n",
        "    query = f\"\"\"\n",
        "    SELECT TOP {n}\n",
        "    p.objid,p.ra,p.dec,p.u,p.g,p.r,p. i,p.z,\n",
        "    p. run, p. rerun, p.camcol, p.field,\n",
        "    s. specobjid, s.class, s.z as redshift, s.plate, s.mjd, s.fiberid\n",
        "    I\n",
        "    FROM Photoobj AS p\n",
        "    JOIN Specobj AS s ON s.bestobjid = p.objid\n",
        "    WHERE\n",
        "    p.u BETWEEN 0 AND 19.6\n",
        "    AND g BETWEEN 0 AND 20\n",
        "    AND s.class = '{class_name}'\n",
        "    \"\"\"\n",
        "    return query\n",
        "query = sample_n_objects(class_name=\"Galaxy\", n=10)"
      ]
    },
    {
      "cell_type": "markdown",
      "id": "46ee9a6e",
      "metadata": {
        "id": "46ee9a6e"
      },
      "source": [
        "### Step 3: Run the Query"
      ]
    },
    {
      "cell_type": "code",
      "execution_count": null,
      "id": "6754ad90",
      "metadata": {
        "colab": {
          "base_uri": "https://localhost:8080/"
        },
        "id": "6754ad90",
        "outputId": "616e9ba5-ded3-40f7-a639-f5bc40d28abe"
      },
      "outputs": [],
      "source": [
        "query_id = query_handler.run_query(query)"
      ]
    },
    {
      "cell_type": "markdown",
      "id": "07d600bd",
      "metadata": {
        "id": "07d600bd"
      },
      "source": [
        "### Step 4: Check Query Status"
      ]
    },
    {
      "cell_type": "code",
      "execution_count": null,
      "id": "01f71e9d",
      "metadata": {
        "colab": {
          "base_uri": "https://localhost:8080/"
        },
        "id": "01f71e9d",
        "outputId": "76d1b5a7-467d-435f-bc6c-d49ba37d25f0"
      },
      "outputs": [],
      "source": [
        "status = query_handler.check_status(query_id)\n",
        "# This is not neccesary when actually using the library but for tutorial purposes let's see what we get!\n",
        "print(status)"
      ]
    },
    {
      "cell_type": "markdown",
      "id": "4af8ff1b",
      "metadata": {
        "id": "4af8ff1b"
      },
      "source": [
        "### Step 5: Get and Display the Results"
      ]
    },
    {
      "cell_type": "code",
      "execution_count": null,
      "id": "18ae7979",
      "metadata": {
        "colab": {
          "base_uri": "https://localhost:8080/",
          "height": 313
        },
        "id": "18ae7979",
        "outputId": "1cd43a1d-8b9f-4e2a-f5fa-da4fbb2ac997"
      },
      "outputs": [],
      "source": [
        "results_table = query_handler.get_results(query_id)\n",
        "\n",
        "results_table"
      ]
    },
    {
      "cell_type": "code",
      "execution_count": null,
      "id": "jeOKXY6617rj",
      "metadata": {
        "id": "jeOKXY6617rj"
      },
      "outputs": [],
      "source": [
        "a  = results_table[\"ra\"]"
      ]
    },
    {
      "cell_type": "code",
      "execution_count": null,
      "id": "8b8f124b",
      "metadata": {
        "colab": {
          "base_uri": "https://localhost:8080/",
          "height": 313
        },
        "id": "8b8f124b",
        "outputId": "9a90020e-aaed-4e72-dbf8-296d3093052b"
      },
      "outputs": [],
      "source": [
        "# objid = 1237645879578460271\n",
        "# qid = query_handler.run_query(f\"SELECT plate, mjd, fiberid FROM Specobj WHERE objid = {objid}\")\n",
        "\n",
        "# plate, mjd, fiberid = query_handler.get_results(qid)[0]\n",
        "\n",
        "results_table\n",
        "\n",
        "\n"
      ]
    },
    {
      "cell_type": "code",
      "execution_count": null,
      "id": "5e7e023a",
      "metadata": {
        "colab": {
          "base_uri": "https://localhost:8080/"
        },
        "id": "5e7e023a",
        "outputId": "24a6cb62-56d6-4428-e8f6-e6a2be61da21"
      },
      "outputs": [],
      "source": [
        "results_table[0][\"g\"]"
      ]
    },
    {
      "cell_type": "markdown",
      "id": "ca4af6c3",
      "metadata": {
        "id": "ca4af6c3"
      },
      "source": [
        "## Module: Cross Matching"
      ]
    },
    {
      "cell_type": "markdown",
      "id": "d398a590",
      "metadata": {
        "id": "d398a590"
      },
      "source": [
        "The `cross_match` module facilitates the cross-referencing of astronomical objects from the SDSS and Gaia catalogs, prioritizing match purity. This function is particularly useful for astronomers and researchers who need to identify celestial objects observed by both SDSS and Gaia, enabling comprehensive analyses.\n",
        "\n",
        "\n",
        "\n",
        "Function Parameters\n",
        "\n",
        "1. **`spec_objid_list` (list):**\n",
        "   - List of SDSS spectroscopic object identifiers.\n",
        "   - These identifiers uniquely identify celestial objects observed by the Sloan Digital Sky Survey (SDSS).\n",
        "\n",
        "2. **`angular_distance_max` (float, optional):**\n",
        "   - Maximum angular distance between Gaia and SDSS sources, measured in arcseconds.\n",
        "   - Specifies the degree of separation between celestial objects observed by both catalogs.\n",
        "   - Default value is 2.0 arcseconds.\n",
        "\n",
        "Output\n",
        "\n",
        "The function returns an Astropy Table containing cross-match results. The table includes the following columns:\n",
        "\n",
        "- `source_id`: Unique identifier for the Gaia source.\n",
        "- `clean_sdssdr13_oid`: Cleaned SDSS DR13 object identifier.\n",
        "- `original_ext_source_id`: Original external source identifier.\n",
        "- `angular_distance`: Angular distance between Gaia and SDSS sources in arcseconds.\n",
        "- `number_of_neighbours`: Number of neighboring sources.\n",
        "- `number_of_mates`: Number of matching sources.\n",
        "- `xm_flag`: Cross-match flag.\n",
        "- `arcsec`: Angular distance in arcseconds.\n"
      ]
    },
    {
      "cell_type": "markdown",
      "id": "8b1b6da0",
      "metadata": {
        "id": "8b1b6da0"
      },
      "source": [
        "### Now, let's explore this function!"
      ]
    },
    {
      "cell_type": "markdown",
      "id": "e719d2d4",
      "metadata": {
        "id": "e719d2d4"
      },
      "source": [
        "### Step 1: List of SDSS spectroscopic object identifiers"
      ]
    },
    {
      "cell_type": "code",
      "execution_count": null,
      "id": "73b3cc90",
      "metadata": {
        "id": "73b3cc90"
      },
      "outputs": [],
      "source": [
        "spec_objid_list = [1237645879551066262,1237645879578460255, 1237645941291614227, 1237645941824356443]"
      ]
    },
    {
      "cell_type": "markdown",
      "id": "2f803e52",
      "metadata": {
        "id": "2f803e52"
      },
      "source": [
        "### Step 2: Perform cross-matching with a maximum angular distance of 3.0 arcseconds"
      ]
    },
    {
      "cell_type": "code",
      "execution_count": null,
      "id": "3a4ba060",
      "metadata": {
        "colab": {
          "base_uri": "https://localhost:8080/"
        },
        "id": "3a4ba060",
        "outputId": "4f805276-a23d-4109-ebcb-1cc08a81666d"
      },
      "outputs": [],
      "source": [
        "table = cross_match(spec_objid_list, angular_distance_max=3.0)"
      ]
    },
    {
      "cell_type": "markdown",
      "id": "aada3f6b",
      "metadata": {
        "id": "aada3f6b"
      },
      "source": [
        "### Step 3: Display the cross-match results"
      ]
    },
    {
      "cell_type": "code",
      "execution_count": null,
      "id": "a15e346e",
      "metadata": {
        "colab": {
          "base_uri": "https://localhost:8080/"
        },
        "id": "a15e346e",
        "outputId": "ad3e3b88-adb7-4164-d6d9-4863164643c4"
      },
      "outputs": [],
      "source": [
        "print(\"Cross-match results:\")\n",
        "print(table)"
      ]
    },
    {
      "cell_type": "markdown",
      "id": "b65bcb81",
      "metadata": {
        "id": "b65bcb81"
      },
      "source": [
        "### A table was generated so we found matches! How exciting!"
      ]
    },
    {
      "cell_type": "markdown",
      "id": "cfc014e6",
      "metadata": {
        "id": "cfc014e6"
      },
      "source": [
        "## Module: Data Retrieval\n"
      ]
    },
    {
      "cell_type": "markdown",
      "id": "5d4b9ff2",
      "metadata": {
        "id": "5d4b9ff2"
      },
      "source": [
        "Now, let's introduce the Data Retrieval module, an essential component of the Astrolibrary. This module provides functionality to retrieve spectral data from the Sloan Digital Sky Survey (SDSS) using specific identifiers.\n",
        "\n",
        "Here are the key components included in this module:\n",
        "\n",
        "- **Functionality:** The `get_spectra_data` function is designed to retrieve spectral data based on Plate, MJD (Modified Julian Date), and Fiber ID. Users can specify additional parameters such as the output format (either 'fits' or 'csv') and survey details.\n",
        "\n",
        "- **Parameters:**\n",
        "  - PLATE4, MJD, FIBERID4: Identifiers for SDSS data.\n",
        "  - format: Output format ('fits' or 'csv').\n",
        "\n",
        "\n",
        "- **Returns:** The function returns the retrieved data in the specified format.\n",
        "\n",
        "Now, let's explore how to use this module step by step."
      ]
    },
    {
      "cell_type": "markdown",
      "id": "0d6a0eb8",
      "metadata": {
        "id": "0d6a0eb8"
      },
      "source": [
        "### Step 1: Define your Idenitifiers"
      ]
    },
    {
      "cell_type": "code",
      "execution_count": null,
      "id": "16436370",
      "metadata": {
        "id": "16436370"
      },
      "outputs": [],
      "source": [
        "PLATE4=7644\n",
        "\n",
        "MJD=57327\n",
        "\n",
        "FIBERID4=528\n",
        "\n",
        "dr_number=18"
      ]
    },
    {
      "cell_type": "markdown",
      "id": "81e940e3",
      "metadata": {
        "id": "81e940e3"
      },
      "source": [
        "### Step 2: Retrieve the data in your chosen format"
      ]
    },
    {
      "cell_type": "code",
      "execution_count": null,
      "id": "99bede82",
      "metadata": {
        "colab": {
          "base_uri": "https://localhost:8080/"
        },
        "id": "99bede82",
        "outputId": "26d751de-7674-4563-cdd2-0833caa756c9"
      },
      "outputs": [],
      "source": [
        "# Example Usage for CSV Format\n",
        "file_path_to_csv = get_spectra_data(\n",
        "    survey=\"eboss\",\n",
        "    run2d=\"v5_13_2\",\n",
        "    plateid=PLATE4,\n",
        "    mjd=MJD,\n",
        "    fiberid=FIBERID4,\n",
        "    dr_number=18,\n",
        "    output_format='csv'\n",
        ")\n",
        "\n",
        "# Display the retrieved CSV filename\n",
        "print(f' Heres the file path for generated csv file: {file_path_to_csv}')"
      ]
    },
    {
      "cell_type": "code",
      "execution_count": null,
      "id": "de7040ba",
      "metadata": {
        "colab": {
          "base_uri": "https://localhost:8080/"
        },
        "id": "de7040ba",
        "outputId": "fa1c1dd6-caee-4cc7-cad3-065d940880d2",
        "scrolled": true
      },
      "outputs": [],
      "source": [
        "# Example Usage for FITS Format\n",
        "file_path_to_fits = get_spectra_data(\n",
        "    survey=\"eboss\",\n",
        "    run2d=\"v5_13_2\",\n",
        "    plateid=PLATE4,\n",
        "    mjd=MJD,\n",
        "    fiberid=FIBERID4,\n",
        "    dr_number=17\n",
        ")\n",
        "\n",
        "# Display the retrieved FITS filename\n",
        "print(f' Heres the file path for generated fits file: {file_path_to_fits}')"
      ]
    },
    {
      "cell_type": "markdown",
      "id": "39e7cd51",
      "metadata": {
        "id": "39e7cd51"
      },
      "source": [
        "### Let's check the file we generated!"
      ]
    },
    {
      "cell_type": "code",
      "execution_count": null,
      "id": "e9591168",
      "metadata": {
        "colab": {
          "base_uri": "https://localhost:8080/"
        },
        "id": "e9591168",
        "outputId": "b8f5fb78-9c30-4b3c-c08b-2a95d4a320bf"
      },
      "outputs": [],
      "source": [
        "from astropy.io import fits\n",
        "\n",
        "file_path = 'spec-7644-57327-0528.fits'\n",
        "hdul=fits.open(file_path)\n",
        "print(hdul)\n",
        "hdul[1].data"
      ]
    },
    {
      "cell_type": "markdown",
      "id": "45beab3a",
      "metadata": {
        "id": "45beab3a"
      },
      "source": [
        "### Wonderful! Our Data Retrieval worked and we now have a file to work with!"
      ]
    },
    {
      "cell_type": "markdown",
      "id": "d7fdea97",
      "metadata": {
        "id": "d7fdea97"
      },
      "source": [
        "## Module: DataPreprocessing"
      ]
    },
    {
      "cell_type": "markdown",
      "id": "4b9ee364",
      "metadata": {
        "id": "4b9ee364"
      },
      "source": [
        "Next, let's explore how our library preproccesses data! The `DataPreprocessing` module is a versatile tool designed for the preprocessing of astronomical data, catering to the specific needs of researchers working with spectral datasets, such as those obtained from the Sloan Digital Sky Survey (SDSS). This module is crafted to simplify and streamline the essential preprocessing steps, ensuring that the data is ready for subsequent analysis and visualization.\n",
        "\n",
        "### Key Features\n",
        "\n",
        "#### 1. Data Loading and Conversion\n",
        "\n",
        "The module provides functionality for reading data from FITS or CSV files. It seamlessly handles the conversion of FITS data to a Pandas DataFrame, ensuring compatibility with popular data analysis tools.\n",
        "\n",
        "#### 2. Outlier Removal\n",
        "\n",
        "The `remove_outliers_column` method employs the IQR (Interquartile Range) method to identify and remove outliers from specified columns. This step contributes to the robustness of subsequent analyses by mitigating the impact of extreme values.\n",
        "\n",
        "#### 3. Redshift Correction\n",
        "\n",
        "The `correct_redshift` method corrects the redshift in spectra data. It utilizes the redshift value provided during initialization to adjust wavelengths to the observed frame. The correction is performed using the Astropy library, enhancing the accuracy of redshift-corrected flux values.\n",
        "\n",
        "#### 4. Wavelength Alignment\n",
        "\n",
        "The `wave_align` method aligns spectra wavelengths within a predefined range. This is particularly useful for ensuring consistency across different spectra datasets. Users can customize the target wavelength range to suit their specific analysis requirements.\n",
        "\n",
        "#### 5. Normalization\n",
        "\n",
        "The `normalize_column` method facilitates the normalization of specified columns, enhancing the comparability of data across different scales. The normalization process ensures that each column's values have a consistent scale, preventing certain features from dominating the analysis due to differences in magnitude.\n",
        "\n",
        "#### 6. Metadata Extraction\n",
        "\n",
        "The `MetaDataExtractor` class allows users to extract essential metadata from FITS or CSV files. This includes identifiers, coordinates, and redshifts, providing a comprehensive overview of the astronomical data. The extracted metadata can be crucial for understanding and categorizing astronomical observations."
      ]
    },
    {
      "cell_type": "markdown",
      "id": "5c9b793c",
      "metadata": {
        "id": "5c9b793c"
      },
      "source": [
        "### To show how our preprocessing module works, we can preprocess the file we recieved from data retrieval."
      ]
    },
    {
      "cell_type": "markdown",
      "id": "cf04a0b0",
      "metadata": {
        "id": "cf04a0b0"
      },
      "source": [
        "### Step 1: Load and Read data"
      ]
    },
    {
      "cell_type": "code",
      "execution_count": null,
      "id": "91afc4c1",
      "metadata": {
        "id": "91afc4c1"
      },
      "outputs": [],
      "source": [
        "file_path = './spec-7644-57327-0528.csv'"
      ]
    },
    {
      "cell_type": "code",
      "execution_count": null,
      "id": "b9236a71",
      "metadata": {
        "id": "b9236a71"
      },
      "outputs": [],
      "source": [
        "data_processor = DataPreprocessing(file_path = './spec-7644-57327-0528.csv', min_target_wavelength=3000, max_target_wavelength=8000)"
      ]
    },
    {
      "cell_type": "code",
      "execution_count": null,
      "id": "0889d333",
      "metadata": {
        "colab": {
          "base_uri": "https://localhost:8080/"
        },
        "id": "0889d333",
        "outputId": "3acefd5b-191a-46c3-dbea-aede9d810d15"
      },
      "outputs": [],
      "source": [
        "# Call the read_data method to read and load the data\n",
        "data_processor.read_data(file_path)\n",
        "\n",
        "# Now, user can access the loaded data in the DataFrame attribute (df)\n",
        "loaded_data = data_processor.df\n",
        "# Let's print to see our output!\n",
        "print(loaded_data)\n"
      ]
    },
    {
      "cell_type": "markdown",
      "id": "b31586ec",
      "metadata": {
        "id": "b31586ec"
      },
      "source": [
        "### Step 2: Remove Outliers"
      ]
    },
    {
      "cell_type": "code",
      "execution_count": null,
      "id": "6460b574",
      "metadata": {
        "colab": {
          "base_uri": "https://localhost:8080/"
        },
        "id": "6460b574",
        "outputId": "c33f3a7d-47a3-434b-9979-e2da1c9f4e2d"
      },
      "outputs": [],
      "source": [
        "data_processor.remove_outliers_column('Flux')"
      ]
    },
    {
      "cell_type": "code",
      "execution_count": null,
      "id": "addaf265",
      "metadata": {
        "colab": {
          "base_uri": "https://localhost:8080/"
        },
        "id": "addaf265",
        "outputId": "db7e7628-7d0e-48c5-a4b5-32e8b6273d75"
      },
      "outputs": [],
      "source": [
        "# Let's print out our results to check that values outside our bounds have been removed\n",
        "print(data_processor.df)"
      ]
    },
    {
      "cell_type": "markdown",
      "id": "4f4a2544",
      "metadata": {
        "id": "4f4a2544"
      },
      "source": [
        "#### All the values we see for flux are within the bounds so we have successfully removed outliers!"
      ]
    },
    {
      "cell_type": "markdown",
      "id": "09a9911e",
      "metadata": {
        "id": "09a9911e"
      },
      "source": [
        "### Step 3: Wavelength Alignment\n"
      ]
    },
    {
      "cell_type": "code",
      "execution_count": null,
      "id": "c064c5a6",
      "metadata": {
        "id": "c064c5a6"
      },
      "outputs": [],
      "source": [
        "# We set our range for Wavelength from 3000 to 8000 so everything outside those bounds should be removed\n",
        "# Let's call wave_align in order to do this\n",
        "data_processor.wave_align()"
      ]
    },
    {
      "cell_type": "code",
      "execution_count": null,
      "id": "7e53619a",
      "metadata": {
        "colab": {
          "base_uri": "https://localhost:8080/"
        },
        "id": "7e53619a",
        "outputId": "99c2b29e-ce49-4bb6-a54c-3bf068871d1a"
      },
      "outputs": [],
      "source": [
        "# Let's print our dataframe to check that this call was successfull\n",
        "print(data_processor.df)"
      ]
    },
    {
      "cell_type": "markdown",
      "id": "6d968198",
      "metadata": {
        "id": "6d968198"
      },
      "source": [
        "###  All Wavelength Values fall from 3000 - 8000 so we have successfully aligned wavelengths within our predefined range!"
      ]
    },
    {
      "cell_type": "markdown",
      "id": "89a96357",
      "metadata": {
        "id": "89a96357"
      },
      "source": [
        "### Step 4: Normalization"
      ]
    },
    {
      "cell_type": "code",
      "execution_count": null,
      "id": "003f58c5",
      "metadata": {
        "colab": {
          "base_uri": "https://localhost:8080/"
        },
        "id": "003f58c5",
        "outputId": "f11fa895-968d-4956-f7da-a891350a9c0e"
      },
      "outputs": [],
      "source": [
        "import numpy as np\n",
        "\n",
        "# Let's normalize the flux column\n",
        "data_processor.normalize_column('Flux')\n",
        "\n",
        "# Let's see if this works by calculating the new mean and standard deviation\n",
        "\n",
        "# Calculate the new mean and standard deviation after normalization\n",
        "new_mean = np.mean(data_processor.df['Flux'])\n",
        "new_std = np.std(data_processor.df['Flux'])\n",
        "\n",
        "# Display the new mean and standard deviation\n",
        "print(f\"New Mean: {new_mean}\")\n",
        "print(f\"New Standard Deviation: {new_std}\")"
      ]
    },
    {
      "cell_type": "markdown",
      "id": "f2b2cfa8",
      "metadata": {
        "id": "f2b2cfa8"
      },
      "source": [
        "### As we can see our mean is very close to  0 and our standard deviation is  exactly 1 so we have succesfully normalized the Flux !"
      ]
    },
    {
      "cell_type": "markdown",
      "id": "3b97111e",
      "metadata": {
        "id": "3b97111e"
      },
      "source": [
        "### Step 5: Metadata Extraction"
      ]
    },
    {
      "cell_type": "code",
      "execution_count": null,
      "id": "f46a0901",
      "metadata": {
        "id": "f46a0901"
      },
      "outputs": [],
      "source": [
        "# Let's work with a fits file we know has metadata\n",
        "FILE_PATH = 'dr18webexample.fits'\n",
        "\n",
        "# Call MetaDataExtractor\n",
        "extractor = MetaDataExtractor(FILE_PATH)\n",
        "\n",
        "# Extract metadata: For example coordinates \n",
        "extractor.get_coordinates()"
      ]
    },
    {
      "cell_type": "code",
      "execution_count": null,
      "id": "e48e7721",
      "metadata": {},
      "outputs": [],
      "source": [
        "extractor.get_identifiers()"
      ]
    },
    {
      "cell_type": "markdown",
      "id": "e5caaaa8",
      "metadata": {
        "id": "e5caaaa8"
      },
      "source": [
        "## Module: Data Visualization"
      ]
    },
    {
      "cell_type": "markdown",
      "id": "fe0a76ec",
      "metadata": {
        "id": "fe0a76ec"
      },
      "source": [
        "Next,  we'll focus on the `plot_spectra` function, a powerful tool for visualizing spectral data. This function is designed to provide a clear and insightful representation of your spectral information.\n",
        "\n",
        "#### Key Features:\n",
        "\n",
        "1. **Spectral Visualization:**\n",
        "   - Create a visually appealing plot that displays both the spectrum and its inferred continuum.\n",
        "\n",
        "2. **Smoothing:**\n",
        "   - Control the level of smoothing applied to the inferred continuum with the `smoothing_window_size` parameter.\n",
        "\n",
        "3. **Customization:**\n",
        "   - Easily customize the appearance of the plot to suit your preferences and presentation needs.\n",
        "\n",
        "#### Parameters:\n",
        "\n",
        "- `data`: Pandas DataFrame containing spectral data with 'Wavelength' and 'flux' columns.\n",
        "- `window_size`: Optional parameter to control the smoothing of the inferred continuum.\n",
        "\n",
        "Now, let's explore the power of visualization with the `plot` function in the next steps of this tutorial."
      ]
    },
    {
      "cell_type": "code",
      "execution_count": null,
      "id": "f8776a40",
      "metadata": {
        "colab": {
          "base_uri": "https://localhost:8080/",
          "height": 508
        },
        "id": "f8776a40",
        "outputId": "cf90cfbd-4ad7-47a2-be52-e6c3079fe5ce"
      },
      "outputs": [],
      "source": [
        "# Let's use datapreprocessing to get a pandas dataframe\n",
        "data_processor = DataPreprocessing(file_path = 'spec-7644-57327-0528.csv', min_target_wavelength=3000, max_target_wavelength=8000)\n",
        "# Assign that database to data\n",
        "data = data_processor.df\n",
        "data.rename(columns={'Flux': 'flux'}, inplace=True)\n",
        "# Plot\n",
        "plot(data)"
      ]
    },
    {
      "cell_type": "markdown",
      "id": "081a620d",
      "metadata": {
        "id": "081a620d"
      },
      "source": [
        "## What a visual, Beautiful!!"
      ]
    },
    {
      "cell_type": "markdown",
      "id": "2786f088",
      "metadata": {
        "id": "2786f088"
      },
      "source": [
        "## Module: Machine Learning\n",
        "\n",
        "We will close with our Machine Learning Moudle, which is capable of distinguishing between Stars, Galaxies, and QSOs. "
      ]
    },
    {
      "cell_type": "code",
      "execution_count": null,
      "id": "52363027",
      "metadata": {
        "colab": {
          "base_uri": "https://localhost:8080/"
        },
        "id": "52363027",
        "outputId": "27626ea3-8913-46af-84ea-552dfc87fb6a"
      },
      "outputs": [],
      "source": [
        "import numpy as np\n",
        "query_handler = QueryHandler(dataset_name = 'SDSS')\n",
        "\n",
        "query_x = \"\"\"\n",
        "SELECT TOP 10\n",
        "    p.objid, p.ra, p.dec, p.u, p.g, p.r, p.i, p.z,\n",
        "    p.run, p.rerun, p.camcol, p.field,\n",
        "    s.specobjid, s.z as redshift,\n",
        "    s.plate, s.mjd, s.fiberid\n",
        "FROM\n",
        "    PhotoObj AS p\n",
        "JOIN\n",
        "    SpecObj AS s ON s.bestobjid = p.objid\n",
        "WHERE\n",
        "    p.u BETWEEN 0 AND 19.6\n",
        "    AND g BETWEEN 0 AND 20\n",
        "\"\"\"\n",
        "query_y = \"\"\"\n",
        "SELECT TOP 10\n",
        "    s.class\n",
        "FROM\n",
        "    PhotoObj AS p\n",
        "JOIN\n",
        "    SpecObj AS s ON s.bestobjid = p.objid\n",
        "WHERE\n",
        "  p.u BETWEEN 0 AND 19.6\n",
        "  AND g BETWEEN 0 AND 20\n",
        "\"\"\"\n",
        "# Run the query using QueryHandler\n",
        "query_id_x = query_handler.run_query(query_x)\n",
        "# Get the results table\n",
        "results_table_x = query_handler.get_results(query_id_x)\n",
        "\n"
      ]
    },
    {
      "cell_type": "code",
      "execution_count": null,
      "id": "0c86017e",
      "metadata": {},
      "outputs": [],
      "source": [
        "# Run the query using QueryHandler\n",
        "query_id_y = query_handler.run_query(query_y)\n",
        "# Get the results table\n",
        "results_table_y = query_handler.get_results(query_id_y)"
      ]
    },
    {
      "cell_type": "markdown",
      "id": "cfca5787",
      "metadata": {},
      "source": [
        "### Fit: trains the model"
      ]
    },
    {
      "cell_type": "code",
      "execution_count": null,
      "id": "0d82394e",
      "metadata": {
        "colab": {
          "base_uri": "https://localhost:8080/"
        },
        "id": "0d82394e",
        "outputId": "2cb65d16-0215-46f5-f4f0-221163ec9b0f"
      },
      "outputs": [],
      "source": [
        "col_A = [results_table_x[col] for col in results_table_x.columns]\n",
        "matrix_A = np.column_stack(col_A)\n",
        "\n",
        "col_b = [results_table_y[col] for col in results_table_y.columns]\n",
        "matrix_b = np.column_stack(col_b)\n"
      ]
    },
    {
      "cell_type": "code",
      "execution_count": null,
      "id": "225e5602",
      "metadata": {},
      "outputs": [],
      "source": [
        "model = MachineLearning()\n",
        "fitting = model.fit(matrix_A, matrix_b)"
      ]
    },
    {
      "cell_type": "markdown",
      "id": "2f6a3da0",
      "metadata": {},
      "source": [
        "### predict: predicts the class of astronomical objects"
      ]
    },
    {
      "cell_type": "code",
      "execution_count": null,
      "id": "8d7ee860",
      "metadata": {},
      "outputs": [],
      "source": [
        "predicition = model.predict(matrix_A)\n",
        "predicition"
      ]
    },
    {
      "cell_type": "markdown",
      "id": "57a27985",
      "metadata": {},
      "source": [
        "### predict_proba: trains predictions"
      ]
    },
    {
      "cell_type": "code",
      "execution_count": null,
      "id": "5d8d45cd",
      "metadata": {
        "colab": {
          "base_uri": "https://localhost:8080/"
        },
        "id": "5d8d45cd",
        "outputId": "5d592685-0b54-4e6f-fd06-3892dee45320"
      },
      "outputs": [],
      "source": [
        "model.predict_proba(matrix_A)\n"
      ]
    },
    {
      "cell_type": "markdown",
      "id": "3f853b1e",
      "metadata": {},
      "source": [
        "## Report_confusion_matrix: \n",
        "A performance evaluation function, representing the accuracy of a classification model. It displays the number of true positives, true negatives, false positives, and false negatives. This matrix aids in analyzing model performance, identifying mis-classifications, and improving predictive accuracy."
      ]
    },
    {
      "cell_type": "code",
      "execution_count": null,
      "id": "90a6ac3b",
      "metadata": {},
      "outputs": [],
      "source": [
        "model.report_confusion_matrix(matrix_b, predicition)"
      ]
    },
    {
      "cell_type": "markdown",
      "id": "1e747067",
      "metadata": {},
      "source": [
        "# Enjoy the Library! ^-^"
      ]
    }
  ],
  "metadata": {
    "colab": {
      "provenance": []
    },
    "kernelspec": {
      "display_name": "Python 3.10.4 64-bit",
      "language": "python",
      "name": "python3"
    },
    "language_info": {
      "codemirror_mode": {
        "name": "ipython",
        "version": 3
      },
      "file_extension": ".py",
      "mimetype": "text/x-python",
      "name": "python",
      "nbconvert_exporter": "python",
      "pygments_lexer": "ipython3",
      "version": "3.10.11"
    },
    "vscode": {
      "interpreter": {
        "hash": "aee8b7b246df8f9039afb4144a1f6fd8d2ca17a180786b69acc140d282b71a49"
      }
    }
  },
  "nbformat": 4,
  "nbformat_minor": 5
}
